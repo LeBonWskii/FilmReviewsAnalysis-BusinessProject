{
 "cells": [
  {
   "cell_type": "markdown",
   "metadata": {},
   "source": [
    "## Merge tra i due dataset sull'id"
   ]
  },
  {
   "cell_type": "code",
   "execution_count": 8,
   "metadata": {},
   "outputs": [
    {
     "name": "stdout",
     "output_type": "stream",
     "text": [
      "File salvato con successo in: Data/merged_dataset.csv\n",
      "                                  id  reviewId creationDate       criticName  \\\n",
      "0                            beavers   1145982   2003-05-23  Ivan M. Lincoln   \n",
      "1                         blood_mask   1636744   2007-06-02    The Foywonder   \n",
      "2  city_hunter_shinjuku_private_eyes   2590987   2019-05-28     Reuben Baron   \n",
      "3  city_hunter_shinjuku_private_eyes   2558908   2019-02-14      Matt Schley   \n",
      "4                 dangerous_men_2015   2504681   2018-08-29        Pat Padua   \n",
      "\n",
      "   isTopCritic originalScore reviewState                 publicatioName  \\\n",
      "0        False         3.5/4       fresh  Deseret News (Salt Lake City)   \n",
      "1        False           1/5      rotten                  Dread Central   \n",
      "2        False           NaN       fresh                            CBR   \n",
      "3        False         2.5/5      rotten                    Japan Times   \n",
      "4        False           NaN       fresh                          DCist   \n",
      "\n",
      "                                          reviewText scoreSentiment  ...  \\\n",
      "0  Timed to be just long enough for most youngste...       POSITIVE  ...   \n",
      "1  It doesn't matter if a movie costs 300 million...       NEGATIVE  ...   \n",
      "2  The choreography is so precise and lifelike at...       POSITIVE  ...   \n",
      "3  The film's out-of-touch attempts at humor may ...       NEGATIVE  ...   \n",
      "4  Its clumsy determination is endearing and some...       POSITIVE  ...   \n",
      "\n",
      "  releaseDateTheaters releaseDateStreaming  runtimeMinutes        genre  \\\n",
      "0                 NaN           2011-06-21            30.0  Documentary   \n",
      "1                 NaN                  NaN             NaN          NaN   \n",
      "2                 NaN                  NaN             NaN          NaN   \n",
      "3                 NaN                  NaN             NaN          NaN   \n",
      "4                 NaN                  NaN             NaN          NaN   \n",
      "\n",
      "  originalLanguage          director writer boxOffice  distributor soundMix  \n",
      "0          English       Stephen Low    NaN       NaN          NaN      NaN  \n",
      "1              NaN  Unknown Director    NaN       NaN          NaN      NaN  \n",
      "2              NaN      Kenji Kodama    NaN       NaN          NaN      NaN  \n",
      "3              NaN      Kenji Kodama    NaN       NaN          NaN      NaN  \n",
      "4              NaN  Unknown Director    NaN       NaN          NaN      NaN  \n",
      "\n",
      "[5 rows x 26 columns]\n"
     ]
    }
   ],
   "source": [
    "import pandas as pd\n",
    "import os\n",
    "\n",
    "# Leggere i dataset dai file CSV\n",
    "df_reviews = pd.read_csv(\"OriginalDatasets/rotten_tomatoes_movie_reviews.csv\")  \n",
    "df_movies = pd.read_csv(\"OriginalDatasets/rotten_tomatoes_movies.csv\")  \n",
    "\n",
    "# Effettuare il merge sulla colonna 'id'\n",
    "df_merged = df_reviews.merge(df_movies, on=\"id\", how=\"inner\")\n",
    "\n",
    "output_folder = \"Data\"  # Modifica il nome della cartella in cui vuoi salvare\n",
    "output_file = os.path.join(output_folder, \"merged_dataset.csv\")\n",
    "\n",
    "# Creare la cartella se non esiste\n",
    "if not os.path.exists(output_folder):\n",
    "    os.makedirs(output_folder)\n",
    "\n",
    "# Controllare se il file esiste già\n",
    "if os.path.exists(output_file):\n",
    "    print(f\"Il file '{output_file}' esiste già. Nessuna sovrascrittura effettuata.\")\n",
    "else:\n",
    "    # Salvare il dataset unito in un nuovo CSV\n",
    "    df_merged.to_csv(output_file, index=False)\n",
    "    print(f\"File salvato con successo in: {output_file}\")\n",
    "\n",
    "# Stampare le prime righe per verifica\n",
    "print(df_merged.head())\n"
   ]
  },
  {
   "cell_type": "code",
   "execution_count": 10,
   "metadata": {},
   "outputs": [
    {
     "name": "stdout",
     "output_type": "stream",
     "text": [
      "<class 'pandas.core.frame.DataFrame'>\n",
      "RangeIndex: 1469543 entries, 0 to 1469542\n",
      "Data columns (total 26 columns):\n",
      " #   Column                Non-Null Count    Dtype  \n",
      "---  ------                --------------    -----  \n",
      " 0   id                    1469543 non-null  object \n",
      " 1   reviewId              1469543 non-null  int64  \n",
      " 2   creationDate          1469543 non-null  object \n",
      " 3   criticName            1469543 non-null  object \n",
      " 4   isTopCritic           1469543 non-null  bool   \n",
      " 5   originalScore         1026708 non-null  object \n",
      " 6   reviewState           1469543 non-null  object \n",
      " 7   publicatioName        1469543 non-null  object \n",
      " 8   reviewText            1399259 non-null  object \n",
      " 9   scoreSentiment        1469543 non-null  object \n",
      " 10  reviewUrl             1255083 non-null  object \n",
      " 11  title                 1464073 non-null  object \n",
      " 12  audienceScore         1399294 non-null  float64\n",
      " 13  tomatoMeter           1398270 non-null  float64\n",
      " 14  rating                889498 non-null   object \n",
      " 15  ratingContents        889498 non-null   object \n",
      " 16  releaseDateTheaters   1184070 non-null  object \n",
      " 17  releaseDateStreaming  1355722 non-null  object \n",
      " 18  runtimeMinutes        1440071 non-null  float64\n",
      " 19  genre                 1446093 non-null  object \n",
      " 20  originalLanguage      1439891 non-null  object \n",
      " 21  director              1460521 non-null  object \n",
      " 22  writer                1311318 non-null  object \n",
      " 23  boxOffice             1010267 non-null  object \n",
      " 24  distributor           1133821 non-null  object \n",
      " 25  soundMix              702960 non-null   object \n",
      "dtypes: bool(1), float64(3), int64(1), object(21)\n",
      "memory usage: 281.7+ MB\n",
      "None\n"
     ]
    }
   ],
   "source": [
    "print(df_merged.info())"
   ]
  },
  {
   "cell_type": "markdown",
   "metadata": {},
   "source": [
    "## Eliminazione colonne inutili e normalizzazione"
   ]
  },
  {
   "cell_type": "code",
   "execution_count": 16,
   "metadata": {},
   "outputs": [
    {
     "name": "stdout",
     "output_type": "stream",
     "text": [
      "File salvato con successo in: Data/CleanMerged.csv\n",
      "<class 'pandas.core.frame.DataFrame'>\n",
      "Index: 1364880 entries, 0 to 1469542\n",
      "Data columns (total 8 columns):\n",
      " #   Column            Non-Null Count    Dtype  \n",
      "---  ------            --------------    -----  \n",
      " 0   id                1364880 non-null  object \n",
      " 1   reviewId          1364880 non-null  int64  \n",
      " 2   reviewText        1364880 non-null  object \n",
      " 3   scoreSentiment    1364880 non-null  object \n",
      " 4   title             1364880 non-null  object \n",
      " 5   runtimeMinutes    1364880 non-null  float64\n",
      " 6   genre             1364880 non-null  object \n",
      " 7   originalLanguage  1364880 non-null  object \n",
      "dtypes: float64(1), int64(1), object(6)\n",
      "memory usage: 93.7+ MB\n",
      "None\n"
     ]
    }
   ],
   "source": [
    "df_cleaned = pd.read_csv(\"Data/merged_dataset.csv\")  \n",
    "\n",
    "columnsToDrop = [\"creationDate\", \"criticName\", \"isTopCritic\", \"originalScore\", \"reviewState\",\"reviewUrl\" , \"publicatioName\", \"audienceScore\",\"tomatoMeter\", \"rating\", \"ratingContents\", \"releaseDateTheaters\", \"releaseDateStreaming\", \"director\", \"writer\", \"boxOffice\", \"distributor\", \"soundMix\"]\n",
    "\n",
    "df_cleaned = df_cleaned.drop(columns=columnsToDrop)\n",
    "\n",
    "df_cleaned = df_cleaned.dropna() # elimino le righe contenenti valori null\n",
    "\n",
    "output_folder = \"Data\"  # Modifica il nome della cartella in cui vuoi salvare\n",
    "output_file = os.path.join(output_folder, \"CleanMerged.csv\")\n",
    "\n",
    "# Creare la cartella se non esiste\n",
    "if not os.path.exists(output_folder):\n",
    "    os.makedirs(output_folder)\n",
    "\n",
    "# Controllare se il file esiste già\n",
    "if os.path.exists(output_file):\n",
    "    print(f\"Il file '{output_file}' esiste già. Nessuna sovrascrittura effettuata.\")\n",
    "else:\n",
    "    # Salvare il dataset unito in un nuovo CSV\n",
    "    df_cleaned.to_csv(output_file, index=False)\n",
    "    print(f\"File salvato con successo in: {output_file}\")\n",
    "    \n",
    "    \n",
    "print(df_cleaned.info())"
   ]
  },
  {
   "cell_type": "markdown",
   "metadata": {},
   "source": [
    "## Conteggio per genere"
   ]
  },
  {
   "cell_type": "code",
   "execution_count": 18,
   "metadata": {},
   "outputs": [
    {
     "name": "stdout",
     "output_type": "stream",
     "text": [
      "genre\n",
      "Drama                   634777\n",
      "Comedy                  412120\n",
      "Mystery & thriller      269865\n",
      "Action                  201753\n",
      "Adventure               182258\n",
      "Romance                 128569\n",
      "Documentary             126207\n",
      "Horror                  122333\n",
      "Fantasy                 121051\n",
      "Sci-fi                   93999\n",
      "Crime                    80413\n",
      "Kids & family            77867\n",
      "Biography                70968\n",
      "History                  62283\n",
      "Animation                51829\n",
      "Lgbtq+                   34568\n",
      "Musical                  28073\n",
      "War                      27641\n",
      "Music                    23579\n",
      "Western                  14404\n",
      "Holiday                  14005\n",
      "Anime                     5670\n",
      "Sports                     446\n",
      "Stand-up                   400\n",
      "Sports & fitness           349\n",
      "Foreign                    250\n",
      "Nature                      88\n",
      "Gay & lesbian               45\n",
      "Short                       40\n",
      "Variety                     32\n",
      "Special interest            21\n",
      "Health & wellness           17\n",
      "Faith & spirituality        16\n",
      "Other                       12\n",
      "News                         7\n",
      "Entertainment                5\n",
      "Reality                      1\n",
      "Name: count, dtype: int64\n"
     ]
    }
   ],
   "source": [
    "# Suddividere i generi separati da virgola in più righe\n",
    "df_exploded = df_cleaned.assign(genre=df_cleaned[\"genre\"].str.split(\", \")).explode(\"genre\")\n",
    "\n",
    "# Contare il numero di film per ogni genere\n",
    "genre_counts = df_exploded[\"genre\"].value_counts()\n",
    "\n",
    "# Mostrare il risultato\n",
    "print(genre_counts)"
   ]
  },
  {
   "cell_type": "code",
   "execution_count": 22,
   "metadata": {},
   "outputs": [
    {
     "name": "stdout",
     "output_type": "stream",
     "text": [
      "Recensioni di Drama salvate in 'Final/reviews_Drama.csv'\n",
      "Recensioni di Comedy salvate in 'Final/reviews_Comedy.csv'\n",
      "Recensioni di Action salvate in 'Final/reviews_Action.csv'\n"
     ]
    }
   ],
   "source": [
    "generi_scelti = [\"Drama\", \"Comedy\", \"Action\"]  # Modifica questi generi secondo le tue esigenze\n",
    "\n",
    "# Filtrare il DataFrame per i generi scelti\n",
    "df_filtrato = df_exploded[df_exploded[\"genre\"].isin(generi_scelti)]\n",
    "\n",
    "output_folder = \"Final\"\n",
    "\n",
    "# Creare la cartella se non esiste\n",
    "if not os.path.exists(output_folder):\n",
    "    os.makedirs(output_folder)\n",
    "\n",
    "# Salvare le recensioni di ogni genere nella cartella specificata\n",
    "for genere in generi_scelti:\n",
    "    df_genere = df_filtrato[df_filtrato[\"genre\"] == genere]\n",
    "    \n",
    "    # Creare il percorso completo del file\n",
    "    output_file = os.path.join(output_folder, f\"reviews_{genere}.csv\")\n",
    "    \n",
    "    # Salvare il file\n",
    "    df_genere.to_csv(output_file, index=False)\n",
    "    \n",
    "    print(f\"Recensioni di {genere} salvate in '{output_file}'\")\n",
    "\n"
   ]
  }
 ],
 "metadata": {
  "kernelspec": {
   "display_name": "BSS",
   "language": "python",
   "name": "python3"
  },
  "language_info": {
   "codemirror_mode": {
    "name": "ipython",
    "version": 3
   },
   "file_extension": ".py",
   "mimetype": "text/x-python",
   "name": "python",
   "nbconvert_exporter": "python",
   "pygments_lexer": "ipython3",
   "version": "3.11.10"
  }
 },
 "nbformat": 4,
 "nbformat_minor": 2
}
